{
  "cells": [
    {
      "cell_type": "code",
      "execution_count": 22,
      "metadata": {
        "colab": {
          "base_uri": "https://localhost:8080/",
          "height": 36
        },
        "id": "CstxrDU-c9tC",
        "outputId": "3f374539-8514-48f5-9ddf-0891dc7aee13"
      },
      "outputs": [
        {
          "output_type": "execute_result",
          "data": {
            "text/plain": [
              "'2.4.0+cu121'"
            ],
            "application/vnd.google.colaboratory.intrinsic+json": {
              "type": "string"
            }
          },
          "metadata": {},
          "execution_count": 22
        }
      ],
      "source": [
        "import torch\n",
        "torch.__version__"
      ]
    },
    {
      "cell_type": "code",
      "execution_count": 23,
      "metadata": {
        "colab": {
          "base_uri": "https://localhost:8080/"
        },
        "id": "cmQGITt1AHYp",
        "outputId": "ce6528fe-4b78-425b-f561-2e66ba5d10d7"
      },
      "outputs": [
        {
          "output_type": "stream",
          "name": "stdout",
          "text": [
            "Drive already mounted at /content/drive; to attempt to forcibly remount, call drive.mount(\"/content/drive\", force_remount=True).\n"
          ]
        }
      ],
      "source": [
        "from google.colab import drive\n",
        "drive.mount('/content/drive')"
      ]
    },
    {
      "cell_type": "code",
      "execution_count": 24,
      "metadata": {
        "id": "y5UXGBFTDt-I"
      },
      "outputs": [],
      "source": [
        "dataset_dir = '/content/drive/My Drive/RottenFruitData02/Original Image/'"
      ]
    },
    {
      "cell_type": "code",
      "execution_count": 25,
      "metadata": {
        "colab": {
          "base_uri": "https://localhost:8080/"
        },
        "id": "_0PAc5e7QQDd",
        "outputId": "6ece7519-9714-4bb6-f987-700a75fdea7d"
      },
      "outputs": [
        {
          "output_type": "stream",
          "name": "stdout",
          "text": [
            "Archive:  going_modular.zip\n",
            "replace going_modular/going_modular/__pycache__/engine.cpython-39.pyc? [y]es, [n]o, [A]ll, [N]one, [r]ename: A\n",
            "  inflating: going_modular/going_modular/__pycache__/engine.cpython-39.pyc  \n",
            "  inflating: going_modular/going_modular/__pycache__/predictions.cpython-39.pyc  \n",
            "  inflating: going_modular/going_modular/engine.py  \n",
            "  inflating: going_modular/going_modular/model_builder.py  \n",
            "  inflating: going_modular/going_modular/predictions.py  \n",
            "  inflating: going_modular/going_modular/train.py  \n",
            "  inflating: going_modular/going_modular/utils.py  \n"
          ]
        }
      ],
      "source": [
        "!unzip going_modular.zip"
      ]
    },
    {
      "cell_type": "code",
      "execution_count": 26,
      "metadata": {
        "id": "vaccwTwvmUq_"
      },
      "outputs": [],
      "source": [
        "import matplotlib.pyplot as plt\n",
        "import torch\n",
        "import torchvision\n",
        "\n",
        "from torch import nn\n",
        "from torchvision import transforms\n",
        "from helper_functions import set_seeds"
      ]
    },
    {
      "cell_type": "code",
      "execution_count": 27,
      "metadata": {
        "colab": {
          "base_uri": "https://localhost:8080/",
          "height": 36
        },
        "id": "-pQKiifBmYc9",
        "outputId": "3e4f99e7-ea88-4524-d31e-455c835a3fa1"
      },
      "outputs": [
        {
          "output_type": "execute_result",
          "data": {
            "text/plain": [
              "'cuda'"
            ],
            "application/vnd.google.colaboratory.intrinsic+json": {
              "type": "string"
            }
          },
          "metadata": {},
          "execution_count": 27
        }
      ],
      "source": [
        "device = \"cuda\" if torch.cuda.is_available() else \"cpu\"\n",
        "device\n"
      ]
    },
    {
      "cell_type": "code",
      "execution_count": 28,
      "metadata": {
        "colab": {
          "base_uri": "https://localhost:8080/"
        },
        "id": "PJSCHGBY4FCh",
        "outputId": "d92205e8-48a9-4558-b2e9-e15af8ad2c0f"
      },
      "outputs": [
        {
          "output_type": "stream",
          "name": "stdout",
          "text": [
            "Requirement already satisfied: timm in /usr/local/lib/python3.10/dist-packages (1.0.9)\n",
            "Requirement already satisfied: torch in /usr/local/lib/python3.10/dist-packages (from timm) (2.4.0+cu121)\n",
            "Requirement already satisfied: torchvision in /usr/local/lib/python3.10/dist-packages (from timm) (0.19.0+cu121)\n",
            "Requirement already satisfied: pyyaml in /usr/local/lib/python3.10/dist-packages (from timm) (6.0.2)\n",
            "Requirement already satisfied: huggingface_hub in /usr/local/lib/python3.10/dist-packages (from timm) (0.23.5)\n",
            "Requirement already satisfied: safetensors in /usr/local/lib/python3.10/dist-packages (from timm) (0.4.4)\n",
            "Requirement already satisfied: filelock in /usr/local/lib/python3.10/dist-packages (from huggingface_hub->timm) (3.15.4)\n",
            "Requirement already satisfied: fsspec>=2023.5.0 in /usr/local/lib/python3.10/dist-packages (from huggingface_hub->timm) (2024.6.1)\n",
            "Requirement already satisfied: packaging>=20.9 in /usr/local/lib/python3.10/dist-packages (from huggingface_hub->timm) (24.1)\n",
            "Requirement already satisfied: requests in /usr/local/lib/python3.10/dist-packages (from huggingface_hub->timm) (2.32.3)\n",
            "Requirement already satisfied: tqdm>=4.42.1 in /usr/local/lib/python3.10/dist-packages (from huggingface_hub->timm) (4.66.5)\n",
            "Requirement already satisfied: typing-extensions>=3.7.4.3 in /usr/local/lib/python3.10/dist-packages (from huggingface_hub->timm) (4.12.2)\n",
            "Requirement already satisfied: sympy in /usr/local/lib/python3.10/dist-packages (from torch->timm) (1.13.2)\n",
            "Requirement already satisfied: networkx in /usr/local/lib/python3.10/dist-packages (from torch->timm) (3.3)\n",
            "Requirement already satisfied: jinja2 in /usr/local/lib/python3.10/dist-packages (from torch->timm) (3.1.4)\n",
            "Requirement already satisfied: numpy in /usr/local/lib/python3.10/dist-packages (from torchvision->timm) (1.26.4)\n",
            "Requirement already satisfied: pillow!=8.3.*,>=5.3.0 in /usr/local/lib/python3.10/dist-packages (from torchvision->timm) (9.4.0)\n",
            "Requirement already satisfied: MarkupSafe>=2.0 in /usr/local/lib/python3.10/dist-packages (from jinja2->torch->timm) (2.1.5)\n",
            "Requirement already satisfied: charset-normalizer<4,>=2 in /usr/local/lib/python3.10/dist-packages (from requests->huggingface_hub->timm) (3.3.2)\n",
            "Requirement already satisfied: idna<4,>=2.5 in /usr/local/lib/python3.10/dist-packages (from requests->huggingface_hub->timm) (3.8)\n",
            "Requirement already satisfied: urllib3<3,>=1.21.1 in /usr/local/lib/python3.10/dist-packages (from requests->huggingface_hub->timm) (2.0.7)\n",
            "Requirement already satisfied: certifi>=2017.4.17 in /usr/local/lib/python3.10/dist-packages (from requests->huggingface_hub->timm) (2024.7.4)\n",
            "Requirement already satisfied: mpmath<1.4,>=1.1.0 in /usr/local/lib/python3.10/dist-packages (from sympy->torch->timm) (1.3.0)\n"
          ]
        }
      ],
      "source": [
        "!pip install timm"
      ]
    },
    {
      "cell_type": "code",
      "execution_count": 29,
      "metadata": {
        "id": "_Yp078_U3m25"
      },
      "outputs": [],
      "source": [
        "from urllib.request import urlopen\n",
        "from PIL import Image\n",
        "import timm"
      ]
    },
    {
      "cell_type": "code",
      "execution_count": 30,
      "metadata": {
        "id": "mrpgvSSMmgA5",
        "colab": {
          "base_uri": "https://localhost:8080/",
          "height": 49,
          "referenced_widgets": [
            "4f6421f29493447f8a1882e7e34ed94f",
            "586c8f28235f4ce0826078b695d0efdb",
            "7b9b96db10e14294bd943348ad866e56",
            "3358e29407f3430ca34121940fa913db",
            "6bf02088ee28472da552bcdfc097776d",
            "b27346cbfd874d7fb34093c16ea845d3",
            "900539fc24ed4a3b9efe639cbebf12bf",
            "ff2bd261b60c4d9b84e8acb3a25b0bd1",
            "af1bb4f9d5784af5accac5495d5122a9",
            "e093815dc9234f328cbe4da2f23e01a9",
            "9be1ff9cb2bc4b939945474aa3e3a491"
          ]
        },
        "outputId": "e7005d11-c9f7-4550-b093-90041b3aca91"
      },
      "outputs": [
        {
          "output_type": "display_data",
          "data": {
            "text/plain": [
              "model.safetensors:   0%|          | 0.00/347M [00:00<?, ?B/s]"
            ],
            "application/vnd.jupyter.widget-view+json": {
              "version_major": 2,
              "version_minor": 0,
              "model_id": "4f6421f29493447f8a1882e7e34ed94f"
            }
          },
          "metadata": {}
        }
      ],
      "source": [
        "# from urllib.request import urlopen\n",
        "# from PIL import Image\n",
        "# import timm\n",
        "\n",
        "# #pretrained_vit_weights = torchvision.models.ViT_B_16_Weights.DEFAULT\n",
        "# pretrained_vit_weights = timm.create_model('vit_mediumd_patch16_reg4_gap_384.sbb2_e200_in12k_ft_in1k', pretrained=True)\n",
        "\n",
        "# pretrained_vit = torchvision.models.vit_b_16(weights=pretrained_vit_weights).to(device)\n",
        "\n",
        "# # Freezing the base parameters\n",
        "# for parameter in pretrained_vit.parameters():\n",
        "#     parameter.requires_grad = False\n",
        "\n",
        "# class_names = ['freshapples','freshbanana','freshoranges','rottenapples','rottenbanana','rottenoranges']\n",
        "\n",
        "# set_seeds()\n",
        "# pretrained_vit.heads = nn.Linear(in_features=768, out_features=len(class_names)).to(device)\n",
        "from urllib.request import urlopen\n",
        "from PIL import Image\n",
        "import timm\n",
        "import torch\n",
        "import torch.nn as nn\n",
        "\n",
        "# Device configuration\n",
        "device = torch.device(\"cuda\" if torch.cuda.is_available() else \"cpu\")\n",
        "\n",
        "# Load a pre-trained model from timm\n",
        "pretrained_vit = timm.create_model('vit_base_patch16_clip_384.openai_ft_in1k', pretrained=True).to(device)\n",
        "\n",
        "# Freezing the base parameters\n",
        "for parameter in pretrained_vit.parameters():\n",
        "    parameter.requires_grad = False\n",
        "\n",
        "# Define the number of classes\n",
        "# class_names = ['freshapples', 'freshbanana', 'freshoranges', 'rottenapples', 'rottenbanana', 'rottenoranges']\n",
        "\n",
        "class_names = ['0', '1', '2', '3', '4', '5', '6', '7', '8', '9', '10', '11', '12', '13', '14', '15', '16']\n",
        "\n",
        "# Modify the final classification head to match the number of classes\n",
        "# Adjusting the last layer to match the number of classes\n",
        "in_features = pretrained_vit.head.in_features  # Get the number of input features for the final layer\n",
        "pretrained_vit.head = nn.Linear(in_features, len(class_names)).to(device)\n",
        "\n",
        "# Set seeds for reproducibility\n",
        "def set_seeds(seed=42):\n",
        "    torch.manual_seed(seed)\n",
        "    if torch.cuda.is_available():\n",
        "        torch.cuda.manual_seed(seed)\n",
        "    torch.backends.cudnn.deterministic = True\n",
        "    torch.backends.cudnn.benchmark = False\n",
        "\n",
        "set_seeds()\n",
        "\n",
        "# Now your model is ready for training or evaluation"
      ]
    },
    {
      "cell_type": "code",
      "execution_count": 31,
      "metadata": {
        "colab": {
          "base_uri": "https://localhost:8080/"
        },
        "id": "RcO3FI4XmjRS",
        "outputId": "8e676ee9-60c2-4a69-8ccd-e1ec3b0951c1"
      },
      "outputs": [
        {
          "output_type": "stream",
          "name": "stdout",
          "text": [
            "Requirement already satisfied: torchinfo in /usr/local/lib/python3.10/dist-packages (1.8.0)\n"
          ]
        }
      ],
      "source": [
        "!pip install torchinfo"
      ]
    },
    {
      "cell_type": "code",
      "execution_count": 32,
      "metadata": {
        "id": "2o1Un4cf-oyA"
      },
      "outputs": [],
      "source": [
        "# data_config = timm.data.resolve_model_data_config(model)\n",
        "# transforms = timm.data.create_transform(**data_config, is_training=False)\n",
        "\n",
        "# output = model(transforms(img).unsqueeze(0))  # unsqueeze single image into batch of 1\n",
        "\n",
        "# top5_probabilities, top5_class_indices = torch.topk(output.softmax(dim=1) * 100, k=5)"
      ]
    },
    {
      "cell_type": "code",
      "execution_count": 33,
      "metadata": {
        "colab": {
          "base_uri": "https://localhost:8080/"
        },
        "id": "sKJVmtwvmqQD",
        "outputId": "b2b82042-0308-4b80-a48d-3a469425dfff"
      },
      "outputs": [
        {
          "output_type": "stream",
          "name": "stdout",
          "text": [
            "Compose(\n",
            "    Resize(size=(384, 384), interpolation=bilinear, max_size=None, antialias=True)\n",
            "    ToTensor()\n",
            "    Normalize(mean=(0.48145466, 0.4578275, 0.40821073), std=(0.26862954, 0.26130258, 0.27577711))\n",
            ")\n"
          ]
        }
      ],
      "source": [
        "# pretrained_vit_transforms = pretrained_vit_weights.transforms()\n",
        "# print(pretrained_vit_transforms)\n",
        "from torchvision import transforms\n",
        "\n",
        "# Get the model's configuration for preprocessing\n",
        "model_config = pretrained_vit.default_cfg\n",
        "\n",
        "# Define the appropriate transforms for your model\n",
        "pretrained_vit_transforms = transforms.Compose([\n",
        "    transforms.Resize(model_config['input_size'][-2:]),  # Resize to the input size expected by the model\n",
        "    transforms.ToTensor(),  # Convert image to tensor\n",
        "    transforms.Normalize(mean=model_config['mean'], std=model_config['std'])  # Normalize with the model's mean and std\n",
        "])\n",
        "\n",
        "print(pretrained_vit_transforms)\n",
        "\n"
      ]
    },
    {
      "cell_type": "code",
      "execution_count": 34,
      "metadata": {
        "id": "mFQydqMTmy6h"
      },
      "outputs": [],
      "source": [
        "import os\n",
        "import torch\n",
        "from torchvision import datasets, transforms\n",
        "from torch.utils.data import DataLoader\n",
        "from torchvision.transforms import functional as F\n",
        "import random\n",
        "import matplotlib.pyplot as plt\n",
        "\n",
        "NUM_WORKERS = os.cpu_count()\n",
        "\n",
        "class CustomAugmentation:\n",
        "    def __init__(self):\n",
        "        self.gaussian_blur = transforms.GaussianBlur(kernel_size=(5, 9), sigma=(0.1, 5))\n",
        "        self.additive_gaussian_noise = transforms.Lambda(lambda img: img + torch.randn_like(img) * 0.05)\n",
        "\n",
        "    def __call__(self, image):\n",
        "        # Random flip\n",
        "        if random.random() > 0.5:\n",
        "            image = F.hflip(image)\n",
        "\n",
        "        # Random brightness and contrast adjustment\n",
        "        image = transforms.ColorJitter(brightness=0.1, contrast=0.1)(image)\n",
        "\n",
        "        # Random rotation\n",
        "        if random.random() > 0.5:\n",
        "            angle = random.choice([0, 90, 180, 270])\n",
        "            image = F.rotate(image, angle)\n",
        "\n",
        "        # Apply Gaussian blur\n",
        "        if random.random() > 0.5:\n",
        "            image = self.gaussian_blur(image)\n",
        "\n",
        "        return image\n",
        "\n",
        "class AddGaussianNoise:\n",
        "    def __call__(self, image):\n",
        "        return image + torch.randn_like(image) * 0.05\n",
        "\n",
        "# Defining transform with custom augmentation\n",
        "transform = transforms.Compose([\n",
        "    transforms.Resize((224, 224)),  # Resize images first\n",
        "    transforms.Lambda(lambda img: img.convert(\"RGB\")),  # Ensure image is in RGB format\n",
        "    CustomAugmentation(),           # Apply custom augmentations\n",
        "    transforms.ToTensor(),          # Convert images to tensors\n",
        "    AddGaussianNoise()              # Add Gaussian noise to tensors\n",
        "])\n",
        "\n",
        "from torchvision import datasets, transforms\n",
        "from torch.utils.data import random_split, DataLoader\n",
        "\n",
        "from torchvision import datasets, transforms\n",
        "from torch.utils.data import random_split, DataLoader\n",
        "\n",
        "def create_dataloaders(\n",
        "    data_dir: str,\n",
        "    transform: transforms.Compose,\n",
        "    batch_size: int,\n",
        "    num_workers: int = 2\n",
        "):\n",
        "    # Using ImageFolder to create dataset\n",
        "    full_dataset = datasets.ImageFolder(data_dir, transform=transform)\n",
        "\n",
        "    # Determine the split sizes for training and testing\n",
        "    train_size = int(0.8 * len(full_dataset))\n",
        "    test_size = len(full_dataset) - train_size\n",
        "\n",
        "    # Split the dataset into training and testing sets\n",
        "    train_dataset, test_dataset = random_split(full_dataset, [train_size, test_size])\n",
        "\n",
        "    # class names\n",
        "    class_names = full_dataset.classes\n",
        "\n",
        "    # Turning datasets into dataloaders\n",
        "    train_dataloader = DataLoader(\n",
        "        train_dataset,\n",
        "        batch_size=batch_size,\n",
        "        shuffle=True,\n",
        "        num_workers=num_workers,\n",
        "        pin_memory=True,\n",
        "    )\n",
        "    test_dataloader = DataLoader(\n",
        "        test_dataset,\n",
        "        batch_size=batch_size,\n",
        "        shuffle=False,\n",
        "        num_workers=num_workers,\n",
        "        pin_memory=True,\n",
        "    )\n",
        "\n",
        "    return train_dataloader, test_dataloader, class_names"
      ]
    },
    {
      "cell_type": "code",
      "execution_count": 35,
      "metadata": {
        "id": "-JhNondFa_vg"
      },
      "outputs": [],
      "source": [
        "# Setup dataloaders\n",
        "\n",
        "# Call the modified create_dataloaders function\n",
        "train_dataloader_pretrained, test_dataloader_pretrained, class_names = create_dataloaders(\n",
        "    data_dir=dataset_dir,  # No need for separate train_dir and test_dir\n",
        "    transform=pretrained_vit_transforms,\n",
        "    batch_size=32  # You can increase the batch size if you have more samples or better hardware\n",
        ")"
      ]
    },
    {
      "cell_type": "code",
      "execution_count": 36,
      "metadata": {
        "id": "tQEhpTTHekIJ"
      },
      "outputs": [],
      "source": [
        "# !unzip going_modular.zip"
      ]
    },
    {
      "cell_type": "code",
      "execution_count": 37,
      "metadata": {
        "id": "7TSRnr-4dJGR"
      },
      "outputs": [],
      "source": [
        "import numpy as np\n",
        "epoch=5\n",
        "def lr_schedule(epoch):\n",
        "    initial_lr = 1e-3\n",
        "    k = 0.2  # Decay rate\n",
        "    lr = initial_lr * np.exp(-k * epoch)\n",
        "    print('Learning rate: ', lr)\n",
        "    return lr"
      ]
    },
    {
      "cell_type": "code",
      "execution_count": 38,
      "metadata": {
        "colab": {
          "base_uri": "https://localhost:8080/",
          "height": 122,
          "referenced_widgets": [
            "07bfa2e7bf23485bad32b2ebd2694d36",
            "91c7e304d96647808f1ebecbc18616fb",
            "bf9afc9d5d4c430c80f4a86659f5fa12",
            "096a284f385e4e86a243df673146dc96",
            "a95f47279e7541929141c3b450d1cec2",
            "89a9c3e4eadd435dab15b4472b0d4021",
            "1f4d3c9333c049e8a85b24677c589369",
            "d931e8ae7642461ba46417fdb0942738",
            "4dcfcadf36fa40ecb6643bb978a8a740",
            "f5256b72c0804f8b877abcb4cc5c741a",
            "f122f90faf4a4ae48a19e79dcd227542"
          ]
        },
        "id": "_Ba9I_ydexyW",
        "outputId": "bb2f8487-a80e-420a-828b-aaf876fe8a58"
      },
      "outputs": [
        {
          "output_type": "stream",
          "name": "stdout",
          "text": [
            "Learning rate:  0.0003678794411714424\n"
          ]
        },
        {
          "output_type": "display_data",
          "data": {
            "text/plain": [
              "  0%|          | 0/3 [00:00<?, ?it/s]"
            ],
            "application/vnd.jupyter.widget-view+json": {
              "version_major": 2,
              "version_minor": 0,
              "model_id": "07bfa2e7bf23485bad32b2ebd2694d36"
            }
          },
          "metadata": {}
        },
        {
          "output_type": "stream",
          "name": "stdout",
          "text": [
            "Epoch: 1 | train_loss: 1.1403 | train_acc: 0.7488 | test_loss: 0.4452 | test_acc: 0.9203\n",
            "Epoch: 2 | train_loss: 0.3422 | train_acc: 0.9281 | test_loss: 0.2540 | test_acc: 0.9609\n",
            "Epoch: 3 | train_loss: 0.2250 | train_acc: 0.9559 | test_loss: 0.1821 | test_acc: 0.9656\n"
          ]
        }
      ],
      "source": [
        "from going_modular.going_modular import engine\n",
        "\n",
        "# Create optimizer and loss function\n",
        "optimizer = torch.optim.Adam(params=pretrained_vit.parameters(),\n",
        "                             lr=lr_schedule(epoch))\n",
        "loss_fn = torch.nn.CrossEntropyLoss()\n",
        "\n",
        "# Train the classifier head of the pretrained ViT feature extractor model\n",
        "set_seeds()\n",
        "pretrained_vit_results = engine.train(model=pretrained_vit,\n",
        "                                      train_dataloader=train_dataloader_pretrained,\n",
        "                                      test_dataloader=test_dataloader_pretrained,\n",
        "                                      optimizer=optimizer,\n",
        "                                      loss_fn=loss_fn,\n",
        "                                      epochs=3,\n",
        "                                      device=device)"
      ]
    },
    {
      "cell_type": "code",
      "execution_count": 39,
      "metadata": {
        "colab": {
          "base_uri": "https://localhost:8080/",
          "height": 585
        },
        "id": "EkR8OVSDfYTC",
        "outputId": "10cd4646-435b-4a54-ef8b-a22ae37a0ded"
      },
      "outputs": [
        {
          "output_type": "display_data",
          "data": {
            "text/plain": [
              "<Figure size 1500x700 with 2 Axes>"
            ],
            "image/png": "[encoded data removed]"
          },
          "metadata": {}
        }
      ],
      "source": [
        "# Plot the loss curves\n",
        "from helper_functions import plot_loss_curves\n",
        "\n",
        "plot_loss_curves(pretrained_vit_results)"
      ]
    },
    {
      "cell_type": "code",
      "execution_count": 40,
      "metadata": {
        "id": "Y8e_-xBRdTBD"
      },
      "outputs": [],
      "source": [
        "from sklearn.metrics import precision_recall_fscore_support, confusion_matrix, ConfusionMatrixDisplay\n",
        "import torch\n",
        "import matplotlib.pyplot as plt\n",
        "import numpy as np"
      ]
    },
    {
      "cell_type": "code",
      "execution_count": 41,
      "metadata": {
        "id": "DBIaO5NUdWEk"
      },
      "outputs": [],
      "source": [
        "def calculate_metrics_and_plot(model, dataloader, class_names, device):\n",
        "    model.eval()\n",
        "    all_preds = []\n",
        "    all_labels = []\n",
        "\n",
        "    with torch.no_grad():\n",
        "        for inputs, labels in dataloader:\n",
        "            inputs, labels = inputs.to(device), labels.to(device)\n",
        "            outputs = model(inputs)\n",
        "            _, preds = torch.max(outputs, 1)\n",
        "            all_preds.extend(preds.cpu().numpy())\n",
        "            all_labels.extend(labels.cpu().numpy())\n",
        "\n",
        "    # Calculate precision, recall, and F1 score\n",
        "    precision, recall, f1, _ = precision_recall_fscore_support(all_labels, all_preds, average='weighted')\n",
        "\n",
        "    # Print precision, recall, and F1 score\n",
        "    print(f\"Precision: {precision:.4f}\")\n",
        "    print(f\"Recall: {recall:.4f}\")\n",
        "    print(f\"F1 Score: {f1:.4f}\")\n",
        "\n",
        "    # Confusion Matrix\n",
        "    cm = confusion_matrix(all_labels, all_preds)\n",
        "    disp = ConfusionMatrixDisplay(confusion_matrix=cm, display_labels=class_names)\n",
        "\n",
        "    # Plot the confusion matrix with class names rotated\n",
        "    disp.plot(cmap=plt.cm.Blues)\n",
        "    plt.xticks(rotation=90)  # Rotate class names on x-axis\n",
        "    plt.yticks(rotation=0)   # Rotate class names on y-axis (keeps them horizontal)\n",
        "    plt.title('Confusion Matrix')\n",
        "    plt.show()\n"
      ]
    },
    {
      "cell_type": "code",
      "execution_count": 42,
      "metadata": {
        "colab": {
          "base_uri": "https://localhost:8080/",
          "height": 650
        },
        "id": "cLcfRfSbdfMl",
        "outputId": "ee1fbea8-0016-4bb5-b8b4-e89052fc711d"
      },
      "outputs": [
        {
          "output_type": "stream",
          "name": "stdout",
          "text": [
            "Precision: 0.9687\n",
            "Recall: 0.9656\n",
            "F1 Score: 0.9658\n"
          ]
        },
        {
          "output_type": "display_data",
          "data": {
            "text/plain": [
              "<Figure size 640x480 with 2 Axes>"
            ],
            "image/png": "[encoded data removed]"
          },
          "metadata": {}
        }
      ],
      "source": [
        "calculate_metrics_and_plot(\n",
        "    model=pretrained_vit,\n",
        "    dataloader=test_dataloader_pretrained,\n",
        "    class_names=class_names,\n",
        "    device=device\n",
        ")"
      ]
    },
    {
      "cell_type": "markdown",
      "source": [
        "# Not included\n",
        "\n"
      ],
      "metadata": {
        "id": "XAhnaGWXfCAE"
      }
    },
    {
      "cell_type": "code",
      "execution_count": null,
      "metadata": {
        "id": "JGluF8Ytphej"
      },
      "outputs": [],
      "source": [
        "# !pip install grad-cam"
      ]
    },
    {
      "cell_type": "code",
      "execution_count": null,
      "metadata": {
        "id": "bJi9I0SpItmh"
      },
      "outputs": [],
      "source": [
        "# !pip install timm"
      ]
    },
    {
      "cell_type": "code",
      "execution_count": null,
      "metadata": {
        "id": "G7Fh0kDLkpZ5"
      },
      "outputs": [],
      "source": [
        "# # import torch\n",
        "\n",
        "# # from pytorch_grad_cam import GradCAM\n",
        "# # from torch import Tensor\n",
        "# # from transformers import ViTForImageClassification\n",
        "\n",
        "\n",
        "# # def grad_cam(images: Tensor, vit: ViTForImageClassification, use_cuda: bool = False) -> Tensor:\n",
        "# #     \"\"\"Performs the Grad-CAM method on a batch of images (https://arxiv.org/pdf/1610.02391.pdf).\"\"\"\n",
        "\n",
        "# #     # Wrap the ViT model to be compatible with GradCAM\n",
        "# #     vit = model(vit)\n",
        "# #     vit.eval()\n",
        "\n",
        "# #     # Create GradCAM object\n",
        "# #     cam = GradCAM(\n",
        "# #         model=vit,\n",
        "# #         target_layers=[vit.target_layer],\n",
        "# #         reshape_transform=_reshape_transform,\n",
        "# #         use_cuda=use_cuda,\n",
        "# #     )\n",
        "\n",
        "# #     # Compute GradCAM masks\n",
        "# #     grayscale_cam = cam(\n",
        "# #         input_tensor=images,\n",
        "# #         targets=None,\n",
        "# #         eigen_smooth=True,\n",
        "# #         aug_smooth=True,\n",
        "# #     )\n",
        "\n",
        "# #     return torch.from_numpy(grayscale_cam)\n",
        "\n",
        "\n",
        "# # def _reshape_transform(tensor, height=14, width=14):\n",
        "# #     result = tensor[:, 1:, :].reshape(tensor.size(0), height, width, tensor.size(2))\n",
        "\n",
        "# #     # Bring the channels to the first dimension\n",
        "# #     result = result.transpose(2, 3).transpose(1, 2)\n",
        "\n",
        "# #     return result\n",
        "\n",
        "\n",
        "# # class ViTWrapper(torch.nn.Module):\n",
        "# #     \"\"\"ViT Wrapper to use with Grad-CAM.\"\"\"\n",
        "\n",
        "# #     def __init__(self, vit: ViTForImageClassification):\n",
        "# #         super().__init__()\n",
        "# #         self.vit = vit\n",
        "\n",
        "# #     def forward(self, x: torch.Tensor) -> torch.Tensor:\n",
        "# #         return self.vit(x).logits\n",
        "\n",
        "# #     @property\n",
        "# #     def target_layer(self):\n",
        "# #         return self.vit.vit.encoder.layer[-2].layernorm_after\n",
        "\n",
        "# import torch\n",
        "# from transformers import AutoModelForImageClassification, AutoFeatureExtractor\n",
        "# from torch.nn import functional as F\n",
        "# from PIL import Image\n",
        "# import matplotlib.pyplot as plt\n",
        "# import numpy as np\n",
        "# import requests\n",
        "# from torchvision import transforms\n",
        "\n",
        "# from urllib.request import urlopen\n",
        "# from PIL import Image\n",
        "# import timm\n",
        "# import torch\n",
        "# import torch.nn as nn\n",
        "\n",
        "#  # Device configuration\n",
        "# # device = torch.device(\"cuda\" if torch.cuda.is_available() else \"cpu\")\n",
        "\n",
        "# # Load a pre-trained model from timm\n",
        "# pretrained_vit = timm.create_model('vit_mediumd_patch16_reg4_gap_384.sbb2_e200_in12k_ft_in1k', pretrained=True).to(device)\n",
        "\n",
        "# # Load the pre-trained Vision Transformer model and feature extractor\n",
        "# model_name = \"vit_mediumd_patch16_reg4_gap_384.sbb2_e200_in12k_ft_in1k\"  # replace with your Hugging Face model name\n",
        "# model = AutoModelForImageClassification.from_pretrained(model_name)\n",
        "# feature_extractor = AutoFeatureExtractor.from_pretrained(model_name)\n",
        "# model.eval()\n",
        "\n",
        "# # Function to preprocess the images\n",
        "# def preprocess(image_paths):\n",
        "#     images = []\n",
        "#     for img_path in image_paths:\n",
        "#         image = Image.open(img_path).convert(\"RGB\")\n",
        "#         inputs = feature_extractor(images=image, return_tensors=\"pt\")\n",
        "#         images.append(inputs[\"pixel_values\"])\n",
        "#     return torch.cat(images)\n",
        "\n",
        "# # GRAD-CAM implementation\n",
        "# class GradCAM:\n",
        "#     def _init_(self, model, target_layer):\n",
        "#         self.model = model\n",
        "#         self.target_layer = target_layer\n",
        "#         self.gradients = None\n",
        "#         self.activations = None\n",
        "#         target_layer.register_forward_hook(self.save_activation)\n",
        "#         target_layer.register_full_backward_hook(self.save_gradient)\n",
        "\n",
        "#     def save_activation(self, module, input, output):\n",
        "#         self.activations = output\n",
        "\n",
        "#     def save_gradient(self, module, grad_input, grad_output):\n",
        "#         self.gradients = grad_output[0]\n",
        "\n",
        "#     def _call_(self, x, class_idx=None):\n",
        "#         output = self.model(x)\n",
        "#         if class_idx is None:\n",
        "#             class_idx = torch.argmax(output, dim=1)\n",
        "#         self.model.zero_grad()\n",
        "#         loss = F.cross_entropy(output, class_idx)\n",
        "#         loss.backward()\n",
        "\n",
        "#         gradients = self.gradients.detach().cpu().numpy()\n",
        "#         activations = self.activations.detach().cpu().numpy()\n",
        "#         weights = np.mean(gradients, axis=(2, 3))\n",
        "#         grad_cam = np.zeros(activations.shape[2:], dtype=np.float32)\n",
        "\n",
        "#         for i, w in enumerate(weights[0]):\n",
        "#             grad_cam += w * activations[0, i, :, :]\n",
        "\n",
        "#         grad_cam = np.maximum(grad_cam, 0)\n",
        "#         grad_cam = cv2.resize(grad_cam, x.shape[2:])\n",
        "#         grad_cam = (grad_cam - grad_cam.min()) / (grad_cam.max() - grad_cam.min())\n",
        "#         return grad_cam\n",
        "\n",
        "# # Load and preprocess the images\n",
        "# image_paths = [\"test_image_1.jpg\", \"test_image_2.jpg\", \"test_image_3.jpg\",\n",
        "#                \"test_image_4.jpg\", \"test_image_5.jpg\", \"test_image_6.jpg\"]  # replace with your image paths\n",
        "# inputs = preprocess(image_paths)\n",
        "\n",
        "# # Initialize GradCAM for the specific layer in the model\n",
        "# target_layer = model.vit.encoder.layer[-1].output.dropout  # adjust based on your model architecture\n",
        "# grad_cam = GradCAM(model, target_layer)\n",
        "\n",
        "# # Generate and visualize the GRAD-CAM heatmaps\n",
        "# for i in range(len(image_paths)):\n",
        "#     img = inputs[i].unsqueeze(0)\n",
        "#     heatmap = grad_cam(img)\n",
        "\n",
        "#     # Plotting the image and the heatmap\n",
        "#     img = transforms.ToPILImage()(img.squeeze())\n",
        "#     heatmap = cv2.applyColorMap(np.uint8(255 * heatmap), cv2.COLORMAP_JET)\n",
        "#     heatmap = np.float32(heatmap) / 255\n",
        "#     overlayed_img = np.array(img) * 0.5 + heatmap * 0.5\n",
        "\n",
        "#     plt.figure(figsize=(6, 6))\n",
        "#     plt.subplot(1, 2, 1)\n",
        "#     plt.imshow(img)\n",
        "#     plt.title(\"Original Image\")\n",
        "#     plt.axis(\"off\")\n",
        "\n",
        "#     plt.subplot(1, 2, 2)\n",
        "#     plt.imshow(overlayed_img)\n",
        "#     plt.title(\"GRAD-CAM Heatmap\")\n",
        "#     plt.axis(\"off\")\n",
        "\n",
        "#     plt.show()"
      ]
    },
    {
      "cell_type": "markdown",
      "metadata": {
        "id": "JUmxXH0-iqkJ"
      },
      "source": [
        "# Lime"
      ]
    },
    {
      "cell_type": "code",
      "execution_count": null,
      "metadata": {
        "id": "RjwKC7zHl_B_"
      },
      "outputs": [],
      "source": [
        "!pip install lime"
      ]
    },
    {
      "cell_type": "code",
      "execution_count": null,
      "metadata": {
        "id": "6dj5v02CiqDR"
      },
      "outputs": [],
      "source": [
        "# import torch\n",
        "# import numpy as np\n",
        "# from lime import lime_image\n",
        "# from lime.wrappers.scikit_image import SegmentationAlgorithm\n",
        "# from skimage.segmentation import quickshift\n",
        "# from torchvision.transforms.functional import to_pil_image\n",
        "# import matplotlib.pyplot as plt\n",
        "\n",
        "# # Your ViT model\n",
        "# model = pretrained_vit\n",
        "\n",
        "# # Prediction function\n",
        "# def predict(input_tensor):\n",
        "#     model.eval()\n",
        "#     with torch.no_grad():\n",
        "#         # Resize input_tensor to match model's expected input size\n",
        "#         input_tensor = torch.from_numpy(input_tensor).permute(0, 3, 1, 2).float()\n",
        "#         input_tensor = input_tensor.to('cuda')  # If using GPU\n",
        "#         output = model(input_tensor)\n",
        "#         probabilities = torch.nn.functional.softmax(output, dim=1)\n",
        "#     return probabilities.cpu().numpy()\n",
        "\n",
        "# # Get a batch of data from the test dataloader\n",
        "# dataiter = iter(test_dataloader_pretrained)\n",
        "# images, labels = next(dataiter)  # Correct usage of next()\n",
        "\n",
        "# # Select a single image and its corresponding label\n",
        "# image = images[0]  # Get the first image in the batch\n",
        "# label = labels[0].item()  # Get the corresponding label\n",
        "\n",
        "# # Convert the image back to PIL format\n",
        "# pil_image = to_pil_image(image)\n",
        "\n",
        "# # Convert the PIL image to a NumPy array and ensure it's the correct shape (H, W, C)\n",
        "# image_np = np.array(pil_image)\n",
        "\n",
        "# # Apply LIME\n",
        "# explainer = lime_image.LimeImageExplainer()\n",
        "# segmentation_fn = SegmentationAlgorithm('quickshift', kernel_size=4, max_dist=200, ratio=0.2)\n",
        "\n",
        "# explanation = explainer.explain_instance(\n",
        "#     image_np,\n",
        "#     classifier_fn=predict,\n",
        "#     top_labels=5,\n",
        "#     hide_color=0,\n",
        "#     num_samples=1000,\n",
        "#     segmentation_fn=segmentation_fn\n",
        "# )\n",
        "\n",
        "# # Visualize explanation for the selected label\n",
        "# temp, mask = explanation.get_image_and_mask(\n",
        "#     label,\n",
        "#     positive_only=False,\n",
        "#     num_features=10,\n",
        "#     hide_rest=False\n",
        "# )\n",
        "\n",
        "# plt.imshow(temp)\n",
        "# plt.show()\n"
      ]
    },
    {
      "cell_type": "code",
      "execution_count": null,
      "metadata": {
        "id": "6Kqe8nmm924v"
      },
      "outputs": [],
      "source": [
        "import torch\n",
        "import numpy as np\n",
        "from lime import lime_image\n",
        "from lime.wrappers.scikit_image import SegmentationAlgorithm\n",
        "from skimage.segmentation import quickshift\n",
        "from torchvision.transforms.functional import to_pil_image\n",
        "import matplotlib.pyplot as plt\n",
        "\n",
        "# Your ViT model\n",
        "model = pretrained_vit\n",
        "\n",
        "# Prediction function\n",
        "def predict(input_tensor):\n",
        "    model.eval()\n",
        "    with torch.no_grad():\n",
        "        input_tensor = torch.from_numpy(input_tensor).permute(0, 3, 1, 2).float()\n",
        "        input_tensor = input_tensor.to('cuda')  # If using GPU\n",
        "        output = model(input_tensor)\n",
        "        probabilities = torch.nn.functional.softmax(output, dim=1)\n",
        "    return probabilities.cpu().numpy()\n",
        "\n",
        "# Define the class names for the rotten classes\n",
        "rotten_classes = ['rottenapples', 'rottenbanana', 'rottenoranges']\n",
        "\n",
        "# Initialize a dictionary to store one image per rotten class and its label index\n",
        "rotten_images = {}\n",
        "\n",
        "# Loop through the test dataloader to find one image per rotten class\n",
        "for images, labels in test_dataloader_pretrained:\n",
        "    for i in range(len(labels)):\n",
        "        class_name = class_names[labels[i]]\n",
        "        if class_name in rotten_classes and class_name not in rotten_images:\n",
        "            rotten_images[class_name] = (images[i], labels[i].item())\n",
        "        # Break the loop once we've found images for all rotten classes\n",
        "        if len(rotten_images) == len(rotten_classes):\n",
        "            break\n",
        "    if len(rotten_images) == len(rotten_classes):\n",
        "        break\n",
        "\n",
        "# Apply LIME to each rotten class image and visualize the explanations\n",
        "fig, axes = plt.subplots(1, len(rotten_classes), figsize=(15, 5))\n",
        "\n",
        "for ax, class_name in zip(axes, rotten_classes):\n",
        "    image, label = rotten_images[class_name]\n",
        "\n",
        "    # Convert the image to PIL format and then to NumPy array\n",
        "    pil_image = to_pil_image(image)\n",
        "    image_np = np.array(pil_image)\n",
        "\n",
        "    # Apply LIME\n",
        "    explainer = lime_image.LimeImageExplainer()\n",
        "    segmentation_fn = SegmentationAlgorithm('quickshift', kernel_size=4, max_dist=200, ratio=0.2)\n",
        "\n",
        "    explanation = explainer.explain_instance(\n",
        "        image_np,\n",
        "        classifier_fn=predict,\n",
        "        top_labels=5,\n",
        "        hide_color=0,\n",
        "        num_samples=1000,\n",
        "        segmentation_fn=segmentation_fn\n",
        "    )\n",
        "\n",
        "    # Visualize explanation for the specific rotten class\n",
        "    temp, mask = explanation.get_image_and_mask(\n",
        "        label,\n",
        "        positive_only=False,\n",
        "        num_features=10,\n",
        "        hide_rest=False\n",
        "    )\n",
        "\n",
        "    ax.imshow(temp)\n",
        "    ax.set_title(class_name)\n",
        "    ax.axis('off')\n",
        "\n",
        "plt.show()\n"
      ]
    }
  ],
  "metadata": {
    "accelerator": "GPU",
    "colab": {
      "gpuType": "T4",
      "provenance": []
    },
    "kernelspec": {
      "display_name": "Python 3",
      "name": "python3"
    },
    "language_info": {
      "name": "python"
    },
    "widgets": {
      "application/vnd.jupyter.widget-state+json": {
        "4f6421f29493447f8a1882e7e34ed94f": {
          "model_module": "@jupyter-widgets/controls",
          "model_name": "HBoxModel",
          "model_module_version": "1.5.0",
          "state": {
            "_dom_classes": [],
            "_model_module": "@jupyter-widgets/controls",
            "_model_module_version": "1.5.0",
            "_model_name": "HBoxModel",
            "_view_count": null,
            "_view_module": "@jupyter-widgets/controls",
            "_view_module_version": "1.5.0",
            "_view_name": "HBoxView",
            "box_style": "",
            "children": [
              "IPY_MODEL_586c8f28235f4ce0826078b695d0efdb",
              "IPY_MODEL_7b9b96db10e14294bd943348ad866e56",
              "IPY_MODEL_3358e29407f3430ca34121940fa913db"
            ],
            "layout": "IPY_MODEL_6bf02088ee28472da552bcdfc097776d"
          }
        },
        "586c8f28235f4ce0826078b695d0efdb": {
          "model_module": "@jupyter-widgets/controls",
          "model_name": "HTMLModel",
          "model_module_version": "1.5.0",
          "state": {
            "_dom_classes": [],
            "_model_module": "@jupyter-widgets/controls",
            "_model_module_version": "1.5.0",
            "_model_name": "HTMLModel",
            "_view_count": null,
            "_view_module": "@jupyter-widgets/controls",
            "_view_module_version": "1.5.0",
            "_view_name": "HTMLView",
            "description": "",
            "description_tooltip": null,
            "layout": "IPY_MODEL_b27346cbfd874d7fb34093c16ea845d3",
            "placeholder": "​",
            "style": "IPY_MODEL_900539fc24ed4a3b9efe639cbebf12bf",
            "value": "model.safetensors: 100%"
          }
        },
        "7b9b96db10e14294bd943348ad866e56": {
          "model_module": "@jupyter-widgets/controls",
          "model_name": "FloatProgressModel",
          "model_module_version": "1.5.0",
          "state": {
            "_dom_classes": [],
            "_model_module": "@jupyter-widgets/controls",
            "_model_module_version": "1.5.0",
            "_model_name": "FloatProgressModel",
            "_view_count": null,
            "_view_module": "@jupyter-widgets/controls",
            "_view_module_version": "1.5.0",
            "_view_name": "ProgressView",
            "bar_style": "success",
            "description": "",
            "description_tooltip": null,
            "layout": "IPY_MODEL_ff2bd261b60c4d9b84e8acb3a25b0bd1",
            "max": 347455228,
            "min": 0,
            "orientation": "horizontal",
            "style": "IPY_MODEL_af1bb4f9d5784af5accac5495d5122a9",
            "value": 347455228
          }
        },
        "3358e29407f3430ca34121940fa913db": {
          "model_module": "@jupyter-widgets/controls",
          "model_name": "HTMLModel",
          "model_module_version": "1.5.0",
          "state": {
            "_dom_classes": [],
            "_model_module": "@jupyter-widgets/controls",
            "_model_module_version": "1.5.0",
            "_model_name": "HTMLModel",
            "_view_count": null,
            "_view_module": "@jupyter-widgets/controls",
            "_view_module_version": "1.5.0",
            "_view_name": "HTMLView",
            "description": "",
            "description_tooltip": null,
            "layout": "IPY_MODEL_e093815dc9234f328cbe4da2f23e01a9",
            "placeholder": "​",
            "style": "IPY_MODEL_9be1ff9cb2bc4b939945474aa3e3a491",
            "value": " 347M/347M [00:20&lt;00:00, 18.0MB/s]"
          }
        },
        "6bf02088ee28472da552bcdfc097776d": {
          "model_module": "@jupyter-widgets/base",
          "model_name": "LayoutModel",
          "model_module_version": "1.2.0",
          "state": {
            "_model_module": "@jupyter-widgets/base",
            "_model_module_version": "1.2.0",
            "_model_name": "LayoutModel",
            "_view_count": null,
            "_view_module": "@jupyter-widgets/base",
            "_view_module_version": "1.2.0",
            "_view_name": "LayoutView",
            "align_content": null,
            "align_items": null,
            "align_self": null,
            "border": null,
            "bottom": null,
            "display": null,
            "flex": null,
            "flex_flow": null,
            "grid_area": null,
            "grid_auto_columns": null,
            "grid_auto_flow": null,
            "grid_auto_rows": null,
            "grid_column": null,
            "grid_gap": null,
            "grid_row": null,
            "grid_template_areas": null,
            "grid_template_columns": null,
            "grid_template_rows": null,
            "height": null,
            "justify_content": null,
            "justify_items": null,
            "left": null,
            "margin": null,
            "max_height": null,
            "max_width": null,
            "min_height": null,
            "min_width": null,
            "object_fit": null,
            "object_position": null,
            "order": null,
            "overflow": null,
            "overflow_x": null,
            "overflow_y": null,
            "padding": null,
            "right": null,
            "top": null,
            "visibility": null,
            "width": null
          }
        },
        "b27346cbfd874d7fb34093c16ea845d3": {
          "model_module": "@jupyter-widgets/base",
          "model_name": "LayoutModel",
          "model_module_version": "1.2.0",
          "state": {
            "_model_module": "@jupyter-widgets/base",
            "_model_module_version": "1.2.0",
            "_model_name": "LayoutModel",
            "_view_count": null,
            "_view_module": "@jupyter-widgets/base",
            "_view_module_version": "1.2.0",
            "_view_name": "LayoutView",
            "align_content": null,
            "align_items": null,
            "align_self": null,
            "border": null,
            "bottom": null,
            "display": null,
            "flex": null,
            "flex_flow": null,
            "grid_area": null,
            "grid_auto_columns": null,
            "grid_auto_flow": null,
            "grid_auto_rows": null,
            "grid_column": null,
            "grid_gap": null,
            "grid_row": null,
            "grid_template_areas": null,
            "grid_template_columns": null,
            "grid_template_rows": null,
            "height": null,
            "justify_content": null,
            "justify_items": null,
            "left": null,
            "margin": null,
            "max_height": null,
            "max_width": null,
            "min_height": null,
            "min_width": null,
            "object_fit": null,
            "object_position": null,
            "order": null,
            "overflow": null,
            "overflow_x": null,
            "overflow_y": null,
            "padding": null,
            "right": null,
            "top": null,
            "visibility": null,
            "width": null
          }
        },
        "900539fc24ed4a3b9efe639cbebf12bf": {
          "model_module": "@jupyter-widgets/controls",
          "model_name": "DescriptionStyleModel",
          "model_module_version": "1.5.0",
          "state": {
            "_model_module": "@jupyter-widgets/controls",
            "_model_module_version": "1.5.0",
            "_model_name": "DescriptionStyleModel",
            "_view_count": null,
            "_view_module": "@jupyter-widgets/base",
            "_view_module_version": "1.2.0",
            "_view_name": "StyleView",
            "description_width": ""
          }
        },
        "ff2bd261b60c4d9b84e8acb3a25b0bd1": {
          "model_module": "@jupyter-widgets/base",
          "model_name": "LayoutModel",
          "model_module_version": "1.2.0",
          "state": {
            "_model_module": "@jupyter-widgets/base",
            "_model_module_version": "1.2.0",
            "_model_name": "LayoutModel",
            "_view_count": null,
            "_view_module": "@jupyter-widgets/base",
            "_view_module_version": "1.2.0",
            "_view_name": "LayoutView",
            "align_content": null,
            "align_items": null,
            "align_self": null,
            "border": null,
            "bottom": null,
            "display": null,
            "flex": null,
            "flex_flow": null,
            "grid_area": null,
            "grid_auto_columns": null,
            "grid_auto_flow": null,
            "grid_auto_rows": null,
            "grid_column": null,
            "grid_gap": null,
            "grid_row": null,
            "grid_template_areas": null,
            "grid_template_columns": null,
            "grid_template_rows": null,
            "height": null,
            "justify_content": null,
            "justify_items": null,
            "left": null,
            "margin": null,
            "max_height": null,
            "max_width": null,
            "min_height": null,
            "min_width": null,
            "object_fit": null,
            "object_position": null,
            "order": null,
            "overflow": null,
            "overflow_x": null,
            "overflow_y": null,
            "padding": null,
            "right": null,
            "top": null,
            "visibility": null,
            "width": null
          }
        },
        "af1bb4f9d5784af5accac5495d5122a9": {
          "model_module": "@jupyter-widgets/controls",
          "model_name": "ProgressStyleModel",
          "model_module_version": "1.5.0",
          "state": {
            "_model_module": "@jupyter-widgets/controls",
            "_model_module_version": "1.5.0",
            "_model_name": "ProgressStyleModel",
            "_view_count": null,
            "_view_module": "@jupyter-widgets/base",
            "_view_module_version": "1.2.0",
            "_view_name": "StyleView",
            "bar_color": null,
            "description_width": ""
          }
        },
        "e093815dc9234f328cbe4da2f23e01a9": {
          "model_module": "@jupyter-widgets/base",
          "model_name": "LayoutModel",
          "model_module_version": "1.2.0",
          "state": {
            "_model_module": "@jupyter-widgets/base",
            "_model_module_version": "1.2.0",
            "_model_name": "LayoutModel",
            "_view_count": null,
            "_view_module": "@jupyter-widgets/base",
            "_view_module_version": "1.2.0",
            "_view_name": "LayoutView",
            "align_content": null,
            "align_items": null,
            "align_self": null,
            "border": null,
            "bottom": null,
            "display": null,
            "flex": null,
            "flex_flow": null,
            "grid_area": null,
            "grid_auto_columns": null,
            "grid_auto_flow": null,
            "grid_auto_rows": null,
            "grid_column": null,
            "grid_gap": null,
            "grid_row": null,
            "grid_template_areas": null,
            "grid_template_columns": null,
            "grid_template_rows": null,
            "height": null,
            "justify_content": null,
            "justify_items": null,
            "left": null,
            "margin": null,
            "max_height": null,
            "max_width": null,
            "min_height": null,
            "min_width": null,
            "object_fit": null,
            "object_position": null,
            "order": null,
            "overflow": null,
            "overflow_x": null,
            "overflow_y": null,
            "padding": null,
            "right": null,
            "top": null,
            "visibility": null,
            "width": null
          }
        },
        "9be1ff9cb2bc4b939945474aa3e3a491": {
          "model_module": "@jupyter-widgets/controls",
          "model_name": "DescriptionStyleModel",
          "model_module_version": "1.5.0",
          "state": {
            "_model_module": "@jupyter-widgets/controls",
            "_model_module_version": "1.5.0",
            "_model_name": "DescriptionStyleModel",
            "_view_count": null,
            "_view_module": "@jupyter-widgets/base",
            "_view_module_version": "1.2.0",
            "_view_name": "StyleView",
            "description_width": ""
          }
        },
        "07bfa2e7bf23485bad32b2ebd2694d36": {
          "model_module": "@jupyter-widgets/controls",
          "model_name": "HBoxModel",
          "model_module_version": "1.5.0",
          "state": {
            "_dom_classes": [],
            "_model_module": "@jupyter-widgets/controls",
            "_model_module_version": "1.5.0",
            "_model_name": "HBoxModel",
            "_view_count": null,
            "_view_module": "@jupyter-widgets/controls",
            "_view_module_version": "1.5.0",
            "_view_name": "HBoxView",
            "box_style": "",
            "children": [
              "IPY_MODEL_91c7e304d96647808f1ebecbc18616fb",
              "IPY_MODEL_bf9afc9d5d4c430c80f4a86659f5fa12",
              "IPY_MODEL_096a284f385e4e86a243df673146dc96"
            ],
            "layout": "IPY_MODEL_a95f47279e7541929141c3b450d1cec2"
          }
        },
        "91c7e304d96647808f1ebecbc18616fb": {
          "model_module": "@jupyter-widgets/controls",
          "model_name": "HTMLModel",
          "model_module_version": "1.5.0",
          "state": {
            "_dom_classes": [],
            "_model_module": "@jupyter-widgets/controls",
            "_model_module_version": "1.5.0",
            "_model_name": "HTMLModel",
            "_view_count": null,
            "_view_module": "@jupyter-widgets/controls",
            "_view_module_version": "1.5.0",
            "_view_name": "HTMLView",
            "description": "",
            "description_tooltip": null,
            "layout": "IPY_MODEL_89a9c3e4eadd435dab15b4472b0d4021",
            "placeholder": "​",
            "style": "IPY_MODEL_1f4d3c9333c049e8a85b24677c589369",
            "value": "100%"
          }
        },
        "bf9afc9d5d4c430c80f4a86659f5fa12": {
          "model_module": "@jupyter-widgets/controls",
          "model_name": "FloatProgressModel",
          "model_module_version": "1.5.0",
          "state": {
            "_dom_classes": [],
            "_model_module": "@jupyter-widgets/controls",
            "_model_module_version": "1.5.0",
            "_model_name": "FloatProgressModel",
            "_view_count": null,
            "_view_module": "@jupyter-widgets/controls",
            "_view_module_version": "1.5.0",
            "_view_name": "ProgressView",
            "bar_style": "success",
            "description": "",
            "description_tooltip": null,
            "layout": "IPY_MODEL_d931e8ae7642461ba46417fdb0942738",
            "max": 3,
            "min": 0,
            "orientation": "horizontal",
            "style": "IPY_MODEL_4dcfcadf36fa40ecb6643bb978a8a740",
            "value": 3
          }
        },
        "096a284f385e4e86a243df673146dc96": {
          "model_module": "@jupyter-widgets/controls",
          "model_name": "HTMLModel",
          "model_module_version": "1.5.0",
          "state": {
            "_dom_classes": [],
            "_model_module": "@jupyter-widgets/controls",
            "_model_module_version": "1.5.0",
            "_model_name": "HTMLModel",
            "_view_count": null,
            "_view_module": "@jupyter-widgets/controls",
            "_view_module_version": "1.5.0",
            "_view_name": "HTMLView",
            "description": "",
            "description_tooltip": null,
            "layout": "IPY_MODEL_f5256b72c0804f8b877abcb4cc5c741a",
            "placeholder": "​",
            "style": "IPY_MODEL_f122f90faf4a4ae48a19e79dcd227542",
            "value": " 3/3 [14:32&lt;00:00, 289.83s/it]"
          }
        },
        "a95f47279e7541929141c3b450d1cec2": {
          "model_module": "@jupyter-widgets/base",
          "model_name": "LayoutModel",
          "model_module_version": "1.2.0",
          "state": {
            "_model_module": "@jupyter-widgets/base",
            "_model_module_version": "1.2.0",
            "_model_name": "LayoutModel",
            "_view_count": null,
            "_view_module": "@jupyter-widgets/base",
            "_view_module_version": "1.2.0",
            "_view_name": "LayoutView",
            "align_content": null,
            "align_items": null,
            "align_self": null,
            "border": null,
            "bottom": null,
            "display": null,
            "flex": null,
            "flex_flow": null,
            "grid_area": null,
            "grid_auto_columns": null,
            "grid_auto_flow": null,
            "grid_auto_rows": null,
            "grid_column": null,
            "grid_gap": null,
            "grid_row": null,
            "grid_template_areas": null,
            "grid_template_columns": null,
            "grid_template_rows": null,
            "height": null,
            "justify_content": null,
            "justify_items": null,
            "left": null,
            "margin": null,
            "max_height": null,
            "max_width": null,
            "min_height": null,
            "min_width": null,
            "object_fit": null,
            "object_position": null,
            "order": null,
            "overflow": null,
            "overflow_x": null,
            "overflow_y": null,
            "padding": null,
            "right": null,
            "top": null,
            "visibility": null,
            "width": null
          }
        },
        "89a9c3e4eadd435dab15b4472b0d4021": {
          "model_module": "@jupyter-widgets/base",
          "model_name": "LayoutModel",
          "model_module_version": "1.2.0",
          "state": {
            "_model_module": "@jupyter-widgets/base",
            "_model_module_version": "1.2.0",
            "_model_name": "LayoutModel",
            "_view_count": null,
            "_view_module": "@jupyter-widgets/base",
            "_view_module_version": "1.2.0",
            "_view_name": "LayoutView",
            "align_content": null,
            "align_items": null,
            "align_self": null,
            "border": null,
            "bottom": null,
            "display": null,
            "flex": null,
            "flex_flow": null,
            "grid_area": null,
            "grid_auto_columns": null,
            "grid_auto_flow": null,
            "grid_auto_rows": null,
            "grid_column": null,
            "grid_gap": null,
            "grid_row": null,
            "grid_template_areas": null,
            "grid_template_columns": null,
            "grid_template_rows": null,
            "height": null,
            "justify_content": null,
            "justify_items": null,
            "left": null,
            "margin": null,
            "max_height": null,
            "max_width": null,
            "min_height": null,
            "min_width": null,
            "object_fit": null,
            "object_position": null,
            "order": null,
            "overflow": null,
            "overflow_x": null,
            "overflow_y": null,
            "padding": null,
            "right": null,
            "top": null,
            "visibility": null,
            "width": null
          }
        },
        "1f4d3c9333c049e8a85b24677c589369": {
          "model_module": "@jupyter-widgets/controls",
          "model_name": "DescriptionStyleModel",
          "model_module_version": "1.5.0",
          "state": {
            "_model_module": "@jupyter-widgets/controls",
            "_model_module_version": "1.5.0",
            "_model_name": "DescriptionStyleModel",
            "_view_count": null,
            "_view_module": "@jupyter-widgets/base",
            "_view_module_version": "1.2.0",
            "_view_name": "StyleView",
            "description_width": ""
          }
        },
        "d931e8ae7642461ba46417fdb0942738": {
          "model_module": "@jupyter-widgets/base",
          "model_name": "LayoutModel",
          "model_module_version": "1.2.0",
          "state": {
            "_model_module": "@jupyter-widgets/base",
            "_model_module_version": "1.2.0",
            "_model_name": "LayoutModel",
            "_view_count": null,
            "_view_module": "@jupyter-widgets/base",
            "_view_module_version": "1.2.0",
            "_view_name": "LayoutView",
            "align_content": null,
            "align_items": null,
            "align_self": null,
            "border": null,
            "bottom": null,
            "display": null,
            "flex": null,
            "flex_flow": null,
            "grid_area": null,
            "grid_auto_columns": null,
            "grid_auto_flow": null,
            "grid_auto_rows": null,
            "grid_column": null,
            "grid_gap": null,
            "grid_row": null,
            "grid_template_areas": null,
            "grid_template_columns": null,
            "grid_template_rows": null,
            "height": null,
            "justify_content": null,
            "justify_items": null,
            "left": null,
            "margin": null,
            "max_height": null,
            "max_width": null,
            "min_height": null,
            "min_width": null,
            "object_fit": null,
            "object_position": null,
            "order": null,
            "overflow": null,
            "overflow_x": null,
            "overflow_y": null,
            "padding": null,
            "right": null,
            "top": null,
            "visibility": null,
            "width": null
          }
        },
        "4dcfcadf36fa40ecb6643bb978a8a740": {
          "model_module": "@jupyter-widgets/controls",
          "model_name": "ProgressStyleModel",
          "model_module_version": "1.5.0",
          "state": {
            "_model_module": "@jupyter-widgets/controls",
            "_model_module_version": "1.5.0",
            "_model_name": "ProgressStyleModel",
            "_view_count": null,
            "_view_module": "@jupyter-widgets/base",
            "_view_module_version": "1.2.0",
            "_view_name": "StyleView",
            "bar_color": null,
            "description_width": ""
          }
        },
        "f5256b72c0804f8b877abcb4cc5c741a": {
          "model_module": "@jupyter-widgets/base",
          "model_name": "LayoutModel",
          "model_module_version": "1.2.0",
          "state": {
            "_model_module": "@jupyter-widgets/base",
            "_model_module_version": "1.2.0",
            "_model_name": "LayoutModel",
            "_view_count": null,
            "_view_module": "@jupyter-widgets/base",
            "_view_module_version": "1.2.0",
            "_view_name": "LayoutView",
            "align_content": null,
            "align_items": null,
            "align_self": null,
            "border": null,
            "bottom": null,
            "display": null,
            "flex": null,
            "flex_flow": null,
            "grid_area": null,
            "grid_auto_columns": null,
            "grid_auto_flow": null,
            "grid_auto_rows": null,
            "grid_column": null,
            "grid_gap": null,
            "grid_row": null,
            "grid_template_areas": null,
            "grid_template_columns": null,
            "grid_template_rows": null,
            "height": null,
            "justify_content": null,
            "justify_items": null,
            "left": null,
            "margin": null,
            "max_height": null,
            "max_width": null,
            "min_height": null,
            "min_width": null,
            "object_fit": null,
            "object_position": null,
            "order": null,
            "overflow": null,
            "overflow_x": null,
            "overflow_y": null,
            "padding": null,
            "right": null,
            "top": null,
            "visibility": null,
            "width": null
          }
        },
        "f122f90faf4a4ae48a19e79dcd227542": {
          "model_module": "@jupyter-widgets/controls",
          "model_name": "DescriptionStyleModel",
          "model_module_version": "1.5.0",
          "state": {
            "_model_module": "@jupyter-widgets/controls",
            "_model_module_version": "1.5.0",
            "_model_name": "DescriptionStyleModel",
            "_view_count": null,
            "_view_module": "@jupyter-widgets/base",
            "_view_module_version": "1.2.0",
            "_view_name": "StyleView",
            "description_width": ""
          }
        }
      }
    }
  },
  "nbformat": 4,
  "nbformat_minor": 0
}